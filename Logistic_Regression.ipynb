{
  "nbformat": 4,
  "nbformat_minor": 0,
  "metadata": {
    "colab": {
      "provenance": [],
      "authorship_tag": "ABX9TyMb33DNvmb0rR2eeWuWwfok",
      "include_colab_link": true
    },
    "kernelspec": {
      "name": "python3",
      "display_name": "Python 3"
    },
    "language_info": {
      "name": "python"
    }
  },
  "cells": [
    {
      "cell_type": "markdown",
      "metadata": {
        "id": "view-in-github",
        "colab_type": "text"
      },
      "source": [
        "<a href=\"https://colab.research.google.com/github/mahadrasool/CyberDefense-Using-Machine-Learning/blob/Phishing-Attack-Detection/Logistic_Regression.ipynb\" target=\"_parent\"><img src=\"https://colab.research.google.com/assets/colab-badge.svg\" alt=\"Open In Colab\"/></a>"
      ]
    },
    {
      "cell_type": "code",
      "execution_count": null,
      "metadata": {
        "id": "N94oszN1o-pl"
      },
      "outputs": [],
      "source": [
        "#########################################################################\n",
        "########## Phishing Domain Detection Using Logistic Regression ##########\n",
        "#########################################################################\n",
        "\n",
        "import numpy as np\n",
        "from sklearn import *\n",
        "from sklearn.linear_model import LogisticRegression\n",
        "from sklearn.metrics import accuracy_score\n"
      ]
    },
    {
      "cell_type": "code",
      "source": [
        "# Loading data from file on which our model will be trained\n",
        "training_data = np.genfromtxt('/content/sample_data/dataset.csv', delimiter =',', dtype=np.int32 ,usecols=np.arange(0,31))"
      ],
      "metadata": {
        "id": "m6yXXMp9pdJC"
      },
      "execution_count": 13,
      "outputs": []
    },
    {
      "cell_type": "code",
      "source": [
        "\"\"\"\n",
        "Our data is formatted in from that first 30 columsn(features) are input series containing IP Address, \n",
        "URL_Length abnormal and other features and last column is result. So taking input except\n",
        "last column and taking output as last column\n",
        "\"\"\"\n",
        "inputs = training_data[:,:-1]\n",
        "outputs = training_data[:,-1]"
      ],
      "metadata": {
        "id": "TJTZZHVXqLSs"
      },
      "execution_count": 14,
      "outputs": []
    },
    {
      "cell_type": "code",
      "source": [
        "# Dividing data into training data and testing data\n",
        "training_inputs = inputs[:2000]\n",
        "training_outputs = outputs[:2000]\n",
        "testing_inputs = inputs[2000:]\n",
        "testing_outputs = outputs[2000:]\n"
      ],
      "metadata": {
        "id": "_Wufxy11q3oX"
      },
      "execution_count": 15,
      "outputs": []
    },
    {
      "cell_type": "code",
      "source": [
        "# Creating scikit-learn regression classifier\n",
        "classifier = LogisticRegression()"
      ],
      "metadata": {
        "id": "JJyRL_zHtDCs"
      },
      "execution_count": 16,
      "outputs": []
    },
    {
      "cell_type": "code",
      "source": [
        "# Training data\n",
        "classifier.fit(training_inputs, training_outputs)\n",
        "# Making predictions\n",
        "predictions = classifier.predict(testing_inputs)"
      ],
      "metadata": {
        "id": "20Au80DUtMgh"
      },
      "execution_count": 17,
      "outputs": []
    },
    {
      "cell_type": "code",
      "source": [
        "# Checking Accuracy of Phishing Detector Model\n",
        "accuracy = 100 * accuracy_score(testing_outputs,predictions)\n",
        "print('The accuracy of your Logistic Regression on testing data is: ' + str(accuracy))"
      ],
      "metadata": {
        "colab": {
          "base_uri": "https://localhost:8080/"
        },
        "id": "c3nOQtzWta6x",
        "outputId": "b6fcf5f7-eb7e-4e8b-e009-1209a3b729a1"
      },
      "execution_count": 18,
      "outputs": [
        {
          "output_type": "stream",
          "name": "stdout",
          "text": [
            "The accuracy of your Logistic Regression on testing data is: 84.51684152401988\n"
          ]
        }
      ]
    }
  ]
}