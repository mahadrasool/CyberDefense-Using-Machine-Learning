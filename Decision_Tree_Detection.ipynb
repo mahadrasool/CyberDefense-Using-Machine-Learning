{
  "nbformat": 4,
  "nbformat_minor": 0,
  "metadata": {
    "colab": {
      "provenance": [],
      "authorship_tag": "ABX9TyMwO6LSTTBWq5OCH02SJnIu",
      "include_colab_link": true
    },
    "kernelspec": {
      "name": "python3",
      "display_name": "Python 3"
    },
    "language_info": {
      "name": "python"
    }
  },
  "cells": [
    {
      "cell_type": "markdown",
      "metadata": {
        "id": "view-in-github",
        "colab_type": "text"
      },
      "source": [
        "<a href=\"https://colab.research.google.com/github/mahadrasool/CyberDefense-Using-Machine-Learning/blob/Phishing-Attack-Detection/Decision_Tree_Detection.ipynb\" target=\"_parent\"><img src=\"https://colab.research.google.com/assets/colab-badge.svg\" alt=\"Open In Colab\"/></a>"
      ]
    },
    {
      "cell_type": "code",
      "execution_count": 6,
      "metadata": {
        "id": "YIteTSoGyH-h"
      },
      "outputs": [],
      "source": [
        "#########################################################################\n",
        "########## Phishing Domain Detection Using Decision Trees ###############\n",
        "#########################################################################\n",
        "\n",
        "import numpy as np\n",
        "from sklearn import *\n",
        "from sklearn import tree\n",
        "from sklearn.metrics import accuracy_score"
      ]
    },
    {
      "cell_type": "code",
      "source": [
        "# Loading data from file on which our model will be trained\n",
        "training_data = np.genfromtxt('/content/sample_data/dataset.csv', delimiter =',', dtype=np.int32 ,usecols=np.arange(0,31))"
      ],
      "metadata": {
        "id": "W60XgwHEy8R1"
      },
      "execution_count": 8,
      "outputs": []
    },
    {
      "cell_type": "code",
      "source": [
        "\"\"\"\n",
        "Our data is formatted in from that first 30 columsn(features) are input series containing IP Address, \n",
        "URL_Length abnormal and other features and last column is result. So taking input except\n",
        "last column and taking output as last column\n",
        "\"\"\"\n",
        "inputs = training_data[:,:-1]\n",
        "outputs = training_data[:,-1]"
      ],
      "metadata": {
        "id": "7HifqB0my9I9"
      },
      "execution_count": 9,
      "outputs": []
    },
    {
      "cell_type": "code",
      "source": [
        "# Dividing data into training data and testing data\n",
        "training_inputs = inputs[:2000]\n",
        "training_outputs = outputs[:2000]\n",
        "testing_inputs = inputs[2000:]\n",
        "testing_outputs = outputs[2000:]\n"
      ],
      "metadata": {
        "id": "lVrR2KhPzBae"
      },
      "execution_count": 10,
      "outputs": []
    },
    {
      "cell_type": "code",
      "source": [
        "# Creating tree.DecisionTreeClassifier() scikit-learn classifier to learn models\n",
        "classifier = tree.DecisionTreeClassifier()"
      ],
      "metadata": {
        "id": "r2wSryxwycpg"
      },
      "execution_count": 11,
      "outputs": []
    },
    {
      "cell_type": "code",
      "source": [
        "# Training the model\n",
        "classifier.fit(training_inputs, training_outputs)"
      ],
      "metadata": {
        "colab": {
          "base_uri": "https://localhost:8080/"
        },
        "id": "Y4kJL_tQyubW",
        "outputId": "fb7f87a3-28c2-478b-8d2e-a2285bb65995"
      },
      "execution_count": 12,
      "outputs": [
        {
          "output_type": "execute_result",
          "data": {
            "text/plain": [
              "DecisionTreeClassifier()"
            ]
          },
          "metadata": {},
          "execution_count": 12
        }
      ]
    },
    {
      "cell_type": "code",
      "source": [
        "# Computing predictions\n",
        "predictions = classifier.predict(testing_inputs)"
      ],
      "metadata": {
        "id": "BxkpuPU5zGv_"
      },
      "execution_count": 13,
      "outputs": []
    },
    {
      "cell_type": "code",
      "source": [
        "# Calculating accuracy\n",
        "accuracy = 100.0 * accuracy_score(testing_outputs, predictions)\n",
        "print (\"The accuracy of your decision tree on testing data is: \" + str(accuracy))\n"
      ],
      "metadata": {
        "colab": {
          "base_uri": "https://localhost:8080/"
        },
        "id": "JqCTVK1MzO7m",
        "outputId": "010f3d6b-28a9-424c-d323-84d902491eff"
      },
      "execution_count": 14,
      "outputs": [
        {
          "output_type": "stream",
          "name": "stdout",
          "text": [
            "The accuracy of your decision tree on testing data is: 90.38100496963004\n"
          ]
        }
      ]
    }
  ]
}