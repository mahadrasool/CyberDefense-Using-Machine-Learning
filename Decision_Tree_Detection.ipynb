{
  "nbformat": 4,
  "nbformat_minor": 0,
  "metadata": {
    "colab": {
      "provenance": []
    },
    "kernelspec": {
      "name": "python3",
      "display_name": "Python 3"
    },
    "language_info": {
      "name": "python"
    }
  },
  "cells": [
    {
      "cell_type": "code",
      "execution_count": 1,
      "metadata": {
        "id": "YIteTSoGyH-h"
      },
      "outputs": [],
      "source": [
        "#########################################################################\n",
        "########## Phishing Domain Detection Using Decision Trees ###############\n",
        "#########################################################################\n",
        "'''\n",
        "@author mahadrasool \n",
        "'''\n",
        "import numpy as np\n",
        "from sklearn import *\n",
        "from sklearn import tree\n",
        "from sklearn.metrics import accuracy_score"
      ]
    },
    {
      "cell_type": "markdown",
      "source": [],
      "metadata": {
        "id": "gRl7FJ5Y6ibo"
      }
    },
    {
      "cell_type": "code",
      "source": [
        "# Loading data from file on which our model will be trained\n",
        "training_data = np.genfromtxt('/content/sample_data/dataset.csv', delimiter =',', dtype=np.int32 ,usecols=np.arange(0,31))"
      ],
      "metadata": {
        "id": "W60XgwHEy8R1"
      },
      "execution_count": null,
      "outputs": []
    },
    {
      "cell_type": "code",
      "source": [
        "\"\"\"\n",
        "Our data is formatted in from that first 30 columsn(features) are input series containing IP Address, \n",
        "URL_Length abnormal and other features and last column is result. So taking input except\n",
        "last column and taking output as last column\n",
        "\"\"\"\n",
        "inputs = training_data[:,:-1]\n",
        "outputs = training_data[:,-1]"
      ],
      "metadata": {
        "id": "7HifqB0my9I9"
      },
      "execution_count": null,
      "outputs": []
    },
    {
      "cell_type": "code",
      "source": [
        "# Dividing data into training data and testing data\n",
        "training_inputs = inputs[:2000]\n",
        "training_outputs = outputs[:2000]\n",
        "testing_inputs = inputs[2000:]\n",
        "testing_outputs = outputs[2000:]\n"
      ],
      "metadata": {
        "id": "lVrR2KhPzBae"
      },
      "execution_count": null,
      "outputs": []
    },
    {
      "cell_type": "code",
      "source": [
        "# Creating tree.DecisionTreeClassifier() scikit-learn classifier to learn models\n",
        "classifier = tree.DecisionTreeClassifier()"
      ],
      "metadata": {
        "id": "r2wSryxwycpg"
      },
      "execution_count": null,
      "outputs": []
    },
    {
      "cell_type": "code",
      "source": [
        "# Training the model\n",
        "classifier.fit(training_inputs, training_outputs)"
      ],
      "metadata": {
        "colab": {
          "base_uri": "https://localhost:8080/"
        },
        "id": "Y4kJL_tQyubW",
        "outputId": "fb7f87a3-28c2-478b-8d2e-a2285bb65995"
      },
      "execution_count": null,
      "outputs": [
        {
          "output_type": "execute_result",
          "data": {
            "text/plain": [
              "DecisionTreeClassifier()"
            ]
          },
          "metadata": {},
          "execution_count": 12
        }
      ]
    },
    {
      "cell_type": "code",
      "source": [
        "# Computing predictions\n",
        "predictions = classifier.predict(testing_inputs)"
      ],
      "metadata": {
        "id": "BxkpuPU5zGv_"
      },
      "execution_count": null,
      "outputs": []
    },
    {
      "cell_type": "code",
      "source": [
        "# Calculating accuracy\n",
        "accuracy = 100.0 * accuracy_score(testing_outputs, predictions)\n",
        "print (\"The accuracy of your decision tree on testing data is: \" + str(accuracy))\n"
      ],
      "metadata": {
        "colab": {
          "base_uri": "https://localhost:8080/"
        },
        "id": "JqCTVK1MzO7m",
        "outputId": "010f3d6b-28a9-424c-d323-84d902491eff"
      },
      "execution_count": null,
      "outputs": [
        {
          "output_type": "stream",
          "name": "stdout",
          "text": [
            "The accuracy of your decision tree on testing data is: 90.38100496963004\n"
          ]
        }
      ]
    }
  ]
}